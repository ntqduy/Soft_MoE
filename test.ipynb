{
 "cells": [
  {
   "cell_type": "code",
   "execution_count": 3,
   "metadata": {},
   "outputs": [
    {
     "name": "stderr",
     "output_type": "stream",
     "text": [
      "/home/s24gb-1/anaconda3/envs/moe/lib/python3.11/site-packages/torch/nn/modules/transformer.py:385: UserWarning: enable_nested_tensor is True, but self.use_nested_tensor is False because encoder_layer.self_attn.batch_first was not True(use batch_first for better inference performance)\n",
      "  warnings.warn(\n"
     ]
    }
   ],
   "source": [
    "from soft_mixture_of_experts.vit import ViT, SoftMoEViT\n",
    "import torch\n",
    "\n",
    "vit = ViT(num_classes=1000, device=\"cuda\")\n",
    "moe_vit = SoftMoEViT(num_classes=1000, num_experts=32, device=\"cuda\")\n",
    "\n",
    "# image shape: (batch_size, channels, height, width)\n",
    "image = torch.randn(1, 3, 224, 224, device=\"cuda\")\n",
    "\n",
    "# classification prediction\n",
    "# output shape: (batch_size, num_classes)\n",
    "y_vit = vit(image)\n",
    "y_moe = moe_vit(image)\n",
    "\n",
    "# feature embeddings\n",
    "# output shape: (batch_size, num_patches, d_model)\n",
    "features_vit = vit(image, return_features=True)\n",
    "features_moe = moe_vit(image, return_features=True)\n",
    "\n",
    "print(y_vit.shape, y_moe.shape)\n",
    "print(features_vit.shape, features_moe.shape)"
   ]
  }
 ],
 "metadata": {
  "kernelspec": {
   "display_name": "moe",
   "language": "python",
   "name": "python3"
  },
  "language_info": {
   "codemirror_mode": {
    "name": "ipython",
    "version": 3
   },
   "file_extension": ".py",
   "mimetype": "text/x-python",
   "name": "python",
   "nbconvert_exporter": "python",
   "pygments_lexer": "ipython3",
   "version": "3.11.11"
  }
 },
 "nbformat": 4,
 "nbformat_minor": 2
}
